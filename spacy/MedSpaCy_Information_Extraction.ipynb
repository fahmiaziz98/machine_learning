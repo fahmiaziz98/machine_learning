{
  "cells": [
    {
      "cell_type": "code",
      "execution_count": null,
      "metadata": {
        "id": "o_iHDL5Ikz4b"
      },
      "outputs": [],
      "source": [
        "import sys"
      ]
    },
    {
      "cell_type": "code",
      "execution_count": null,
      "metadata": {
        "id": "3rLBdTPOkz4j"
      },
      "outputs": [],
      "source": [
        "sys.path.insert(0, \"..\")"
      ]
    },
    {
      "cell_type": "code",
      "source": [
        "!pip install -q medspacy"
      ],
      "metadata": {
        "colab": {
          "base_uri": "https://localhost:8080/"
        },
        "id": "NNUJkQTBlWLy",
        "outputId": "f342465e-cf1e-4fb0-8a18-56464a3a55c6"
      },
      "execution_count": null,
      "outputs": [
        {
          "output_type": "stream",
          "name": "stdout",
          "text": [
            "\u001b[?25l     \u001b[90m━━━━━━━━━━━━━━━━━━━━━━━━━━━━━━━━━━━━━━━━\u001b[0m \u001b[32m0.0/111.4 kB\u001b[0m \u001b[31m?\u001b[0m eta \u001b[36m-:--:--\u001b[0m\r\u001b[2K     \u001b[91m━━━━━━━━━━━━━━━━━━━━━━━━━━━━━━━━━\u001b[0m\u001b[90m╺\u001b[0m\u001b[90m━━━━━━\u001b[0m \u001b[32m92.2/111.4 kB\u001b[0m \u001b[31m2.6 MB/s\u001b[0m eta \u001b[36m0:00:01\u001b[0m\r\u001b[2K     \u001b[90m━━━━━━━━━━━━━━━━━━━━━━━━━━━━━━━━━━━━━━━\u001b[0m \u001b[32m111.4/111.4 kB\u001b[0m \u001b[31m2.3 MB/s\u001b[0m eta \u001b[36m0:00:00\u001b[0m\n",
            "\u001b[?25h  Installing build dependencies ... \u001b[?25l\u001b[?25hdone\n",
            "  Getting requirements to build wheel ... \u001b[?25l\u001b[?25hdone\n",
            "  Preparing metadata (pyproject.toml) ... \u001b[?25l\u001b[?25hdone\n",
            "\u001b[2K     \u001b[90m━━━━━━━━━━━━━━━━━━━━━━━━━━━━━━━━━━━━━━━━\u001b[0m \u001b[32m67.4/67.4 kB\u001b[0m \u001b[31m5.9 MB/s\u001b[0m eta \u001b[36m0:00:00\u001b[0m\n",
            "\u001b[2K     \u001b[90m━━━━━━━━━━━━━━━━━━━━━━━━━━━━━━━━━━━━━━━━\u001b[0m \u001b[32m71.1/71.1 kB\u001b[0m \u001b[31m6.9 MB/s\u001b[0m eta \u001b[36m0:00:00\u001b[0m\n",
            "\u001b[2K     \u001b[90m━━━━━━━━━━━━━━━━━━━━━━━━━━━━━━━━━━━━━━━━\u001b[0m \u001b[32m92.1/92.1 kB\u001b[0m \u001b[31m9.4 MB/s\u001b[0m eta \u001b[36m0:00:00\u001b[0m\n",
            "\u001b[2K     \u001b[90m━━━━━━━━━━━━━━━━━━━━━━━━━━━━━━━━━━━━━━\u001b[0m \u001b[32m235.5/235.5 kB\u001b[0m \u001b[31m16.0 MB/s\u001b[0m eta \u001b[36m0:00:00\u001b[0m\n",
            "\u001b[2K     \u001b[90m━━━━━━━━━━━━━━━━━━━━━━━━━━━━━━━━━━━━━━━━\u001b[0m \u001b[32m1.5/1.5 MB\u001b[0m \u001b[31m33.2 MB/s\u001b[0m eta \u001b[36m0:00:00\u001b[0m\n",
            "\u001b[2K     \u001b[90m━━━━━━━━━━━━━━━━━━━━━━━━━━━━━━━━━━━━━━\u001b[0m \u001b[32m580.0/580.0 kB\u001b[0m \u001b[31m29.6 MB/s\u001b[0m eta \u001b[36m0:00:00\u001b[0m\n",
            "\u001b[?25h  Preparing metadata (setup.py) ... \u001b[?25l\u001b[?25hdone\n",
            "\u001b[2K     \u001b[90m━━━━━━━━━━━━━━━━━━━━━━━━━━━━━━━━━━━━━━━━\u001b[0m \u001b[32m1.9/1.9 MB\u001b[0m \u001b[31m73.4 MB/s\u001b[0m eta \u001b[36m0:00:00\u001b[0m\n",
            "\u001b[2K     \u001b[90m━━━━━━━━━━━━━━━━━━━━━━━━━━━━━━━━━━━━━━\u001b[0m \u001b[32m311.7/311.7 kB\u001b[0m \u001b[31m27.1 MB/s\u001b[0m eta \u001b[36m0:00:00\u001b[0m\n",
            "\u001b[?25h  Building wheel for medspacy (pyproject.toml) ... \u001b[?25l\u001b[?25hdone\n",
            "  Building wheel for unqlite (setup.py) ... \u001b[?25l\u001b[?25hdone\n"
          ]
        }
      ]
    },
    {
      "cell_type": "code",
      "execution_count": null,
      "metadata": {
        "id": "x6m_ZkETkz4l"
      },
      "outputs": [],
      "source": [
        "import spacy\n",
        "import medspacy\n",
        "from medspacy.visualization import visualize_ent, visualize_dep"
      ]
    },
    {
      "cell_type": "markdown",
      "metadata": {
        "id": "On2hNVSUkz4m"
      },
      "source": [
        "# Overview\n",
        "In this notebook, we'll look at how to extract clinical concepts and attributes from text.\n",
        "- Target matching\n",
        "- Context analysis"
      ]
    },
    {
      "cell_type": "code",
      "execution_count": null,
      "metadata": {
        "id": "TY_FkaDPkz4t"
      },
      "outputs": [],
      "source": [
        "with open(\"discharge_summary.txt\") as f:\n",
        "    text = f.read()"
      ]
    },
    {
      "cell_type": "code",
      "execution_count": null,
      "metadata": {
        "id": "JVw3GHd1kz4u"
      },
      "outputs": [],
      "source": [
        "nlp = medspacy.load(medspacy_enable=[\"medspacy_pyrush\"])"
      ]
    },
    {
      "cell_type": "markdown",
      "metadata": {
        "id": "MSlLBWWJkz4v"
      },
      "source": [
        "# Target extraction\n",
        "In this step, we'll write rules to extract the main concepts we're interested in.\n",
        "\n",
        "In this example, we'll use two utilities provided in `medspacy.ner` for rule-based matching: the `TargetMatcher` and `TargetRule`. However, you can use any spaCy components for adding spans to `doc.ents`, including pre-trained NER models or other [spaCy rule-based matching components](https://spacy.io/usage/rule-based-matching/).\n",
        "\n",
        "If you want to use a statistical NER model instead of a rule-based component, see [./6-Using-Pretrained-Models.ipynb](./6-Using-Pretrained-Models.ipynb)"
      ]
    },
    {
      "cell_type": "markdown",
      "metadata": {
        "id": "JFvmfJtSkz4w"
      },
      "source": [
        "## Target concepts\n",
        "In our text, we'll extract the following concepts:\n",
        "- Diagnoses\n",
        "- Medications\n",
        "\n",
        "In addition, we'll show a few examples of how to add a custom spaCy attribute to a target rule to add an ICD-10 diagnosis code as an attribute of an entity.\n",
        "\n",
        "First, we'll import `TargetMatcher` and `TargetRule`. We'll instantiate a `TargetRule` and add it to our pipeline."
      ]
    },
    {
      "cell_type": "code",
      "execution_count": null,
      "metadata": {
        "id": "bf672R52kz42"
      },
      "outputs": [],
      "source": [
        "target_matcher = nlp.add_pipe(\"medspacy_target_matcher\")"
      ]
    },
    {
      "cell_type": "markdown",
      "metadata": {
        "id": "kdtVn3WZkz44"
      },
      "source": [
        "Now we will define some rules for extract concepts from the text. The `TargetRule` class defines rules for extracting entities from the text. `TargetRule` takes the following arguments:\n",
        "- `literal`: An exact phrase to match in the text\n",
        "- `category`: The semantic class of the entity, will correspond to `ent.label_` in a Doc.\n",
        "- `pattern`: An optional pattern to match rather than `literal`. As we'll see below, this can be either a list of dictionaries defining token attributes or a regular expression string.\n",
        "- `on_match`: An optional callback function. See https://spacy.io/usage/rule-based-matching#on_match\n",
        "- `metadata`: An optional dictionary of metadata\n",
        "- `attributes`: An optional dictionary of custom attributes to set in the resulting entity. We'll see an example below."
      ]
    },
    {
      "cell_type": "markdown",
      "metadata": {
        "id": "s4tdDsg1kz46"
      },
      "source": [
        "Let's define a few simple rules:"
      ]
    },
    {
      "cell_type": "code",
      "execution_count": null,
      "metadata": {
        "id": "-Go6ylnykz46"
      },
      "outputs": [],
      "source": [
        "from medspacy.ner import TargetRule"
      ]
    },
    {
      "cell_type": "code",
      "execution_count": null,
      "metadata": {
        "id": "Iz0N1s1wkz47"
      },
      "outputs": [],
      "source": [
        "target_rules = [\n",
        "    TargetRule(literal=\"abdominal pain\", category=\"PROBLEM\"),\n",
        "    TargetRule(\"stroke\", \"PROBLEM\"),\n",
        "    TargetRule(\"hemicolectomy\", \"TREATMENT\"),\n",
        "    TargetRule(\"Hydrochlorothiazide\", \"TREATMENT\"),\n",
        "    TargetRule(\"colon cancer\", \"PROBLEM\"),\n",
        "    TargetRule(\"metastasis\", \"PROBLEM\"),\n",
        "\n",
        "]"
      ]
    },
    {
      "cell_type": "markdown",
      "metadata": {
        "id": "4JBGnq9wkz47"
      },
      "source": [
        "Then add the rules to the `target_matcher`"
      ]
    },
    {
      "cell_type": "code",
      "execution_count": null,
      "metadata": {
        "id": "16YjjR6jkz48"
      },
      "outputs": [],
      "source": [
        "target_matcher.add(target_rules)"
      ]
    },
    {
      "cell_type": "markdown",
      "metadata": {
        "id": "Lp2RJlZekz48"
      },
      "source": [
        "And process the text"
      ]
    },
    {
      "cell_type": "code",
      "execution_count": null,
      "metadata": {
        "id": "fek_OILgkz48"
      },
      "outputs": [],
      "source": [
        "doc = nlp(text)"
      ]
    },
    {
      "cell_type": "markdown",
      "metadata": {
        "id": "srG_TpPXkz49"
      },
      "source": [
        "Now that the text has been processed, we can see that there are a variety of entities in `doc.ents` that were identified with the `target_matcher`."
      ]
    },
    {
      "cell_type": "code",
      "execution_count": null,
      "metadata": {
        "tags": [],
        "colab": {
          "base_uri": "https://localhost:8080/"
        },
        "id": "MlsTiDNvkz49",
        "outputId": "17ebfc9a-2bd7-4cd5-bc65-9a71420e7a4f"
      },
      "outputs": [
        {
          "output_type": "stream",
          "name": "stdout",
          "text": [
            "(Hydrochlorothiazide, Abdominal pain, stroke, abdominal pain, metastasis, Colon cancer, hemicolectomy, stroke, abdominal pain, abdominal pain)\n"
          ]
        }
      ],
      "source": [
        "print(doc.ents)"
      ]
    },
    {
      "cell_type": "markdown",
      "metadata": {
        "id": "1bgZkzeHkz4-"
      },
      "source": [
        "We can also compare each entity in `doc.ents` with the label it was given and the rule that generated it."
      ]
    },
    {
      "cell_type": "code",
      "execution_count": null,
      "metadata": {
        "colab": {
          "base_uri": "https://localhost:8080/"
        },
        "id": "hYf9-eo0kz4_",
        "outputId": "204dd230-64ac-4b29-c378-5bebb495ef1e"
      },
      "outputs": [
        {
          "output_type": "stream",
          "name": "stdout",
          "text": [
            "Hydrochlorothiazide  |  TREATMENT  |  TargetRule(literal=\"Hydrochlorothiazide\", category=\"TREATMENT\", pattern=None, attributes=None, on_match=None)\n",
            "\n",
            "Abdominal pain  |  PROBLEM  |  TargetRule(literal=\"abdominal pain\", category=\"PROBLEM\", pattern=None, attributes=None, on_match=None)\n",
            "\n",
            "stroke  |  PROBLEM  |  TargetRule(literal=\"stroke\", category=\"PROBLEM\", pattern=None, attributes=None, on_match=None)\n",
            "\n",
            "abdominal pain  |  PROBLEM  |  TargetRule(literal=\"abdominal pain\", category=\"PROBLEM\", pattern=None, attributes=None, on_match=None)\n",
            "\n",
            "metastasis  |  PROBLEM  |  TargetRule(literal=\"metastasis\", category=\"PROBLEM\", pattern=None, attributes=None, on_match=None)\n",
            "\n",
            "Colon cancer  |  PROBLEM  |  TargetRule(literal=\"colon cancer\", category=\"PROBLEM\", pattern=None, attributes=None, on_match=None)\n",
            "\n",
            "hemicolectomy  |  TREATMENT  |  TargetRule(literal=\"hemicolectomy\", category=\"TREATMENT\", pattern=None, attributes=None, on_match=None)\n",
            "\n",
            "stroke  |  PROBLEM  |  TargetRule(literal=\"stroke\", category=\"PROBLEM\", pattern=None, attributes=None, on_match=None)\n",
            "\n",
            "abdominal pain  |  PROBLEM  |  TargetRule(literal=\"abdominal pain\", category=\"PROBLEM\", pattern=None, attributes=None, on_match=None)\n",
            "\n",
            "abdominal pain  |  PROBLEM  |  TargetRule(literal=\"abdominal pain\", category=\"PROBLEM\", pattern=None, attributes=None, on_match=None)\n",
            "\n"
          ]
        }
      ],
      "source": [
        "for ent in doc.ents:\n",
        "    print(ent, ent.label_, ent._.target_rule, sep=\"  |  \")\n",
        "    print()"
      ]
    },
    {
      "cell_type": "markdown",
      "metadata": {
        "id": "RJqnssnfkz4_"
      },
      "source": [
        "## Advanced Pattern Matching\n",
        "SpaCy has powerful pattern matching which allows you to match on a list of dictionaries which define attributes for each token. See https://spacy.io/usage/rule-based-matching for spaCy's documentation and examples. Additionally, medspaCy allows matching with regular expressions on the underlying text of the doc.\n",
        "\n",
        "Let's see some examples of `TargetRules` which utilizie pattern matching. The first rule uses token patterns to match any single token where the lower-case text is either `xrt` or `radiotherapy`. The second uses regular expressions to match various forms of Type 1/Type 2 diabetes."
      ]
    },
    {
      "cell_type": "code",
      "execution_count": null,
      "metadata": {
        "id": "pY5386uhkz4_"
      },
      "outputs": [],
      "source": [
        "pattern_rules = [\n",
        "\n",
        "\n",
        "    TargetRule(\"radiotherapy\", \"PROBLEM\",\n",
        "              pattern=[{\"LOWER\": {\"IN\": [\"xrt\", \"radiotherapy\"]}}]\n",
        "              ),\n",
        "\n",
        "\n",
        "    TargetRule(\"diabetes\", \"PROBLEM\",\n",
        "              pattern=r\"type (i|ii|1|2|one|two) (dm|diabetes mellitus)\"),\n",
        "\n",
        "                ]"
      ]
    },
    {
      "cell_type": "code",
      "execution_count": null,
      "metadata": {
        "id": "Rqwx98nokz5A"
      },
      "outputs": [],
      "source": [
        "target_matcher.add(pattern_rules)"
      ]
    },
    {
      "cell_type": "code",
      "execution_count": null,
      "metadata": {
        "id": "Rn2fu2Eukz5A"
      },
      "outputs": [],
      "source": [
        "doc = nlp(text)"
      ]
    },
    {
      "cell_type": "markdown",
      "metadata": {
        "id": "mBkXMECckz5A"
      },
      "source": [
        "We can now see several new entities have been added to the text after adding the new rules: \"XRT\", \"type 2 dm\", \"Type II Diabetes Mellitus\", \"Type 2 DM\"."
      ]
    },
    {
      "cell_type": "code",
      "execution_count": null,
      "metadata": {
        "colab": {
          "base_uri": "https://localhost:8080/"
        },
        "id": "AzAMk1mYkz5A",
        "outputId": "ef7a6fa1-f258-4dd5-9a51-badb69cbfe34"
      },
      "outputs": [
        {
          "output_type": "stream",
          "name": "stdout",
          "text": [
            "(Hydrochlorothiazide, Abdominal pain, type 2 dm, stroke, abdominal pain, metastasis, Colon cancer, hemicolectomy, XRT, Type II Diabetes Mellitus, stroke, Type 2 DM, abdominal pain, abdominal pain)\n"
          ]
        }
      ],
      "source": [
        "print(doc.ents)"
      ]
    },
    {
      "cell_type": "markdown",
      "metadata": {
        "id": "8Nmova0tkz5H"
      },
      "source": [
        "### A note about regular expressions\n",
        "Regular-expression matching is not natively supported by spaCy and could result in unexpected matched spans if match boundaries do not align with token boundaries. For example, let's say you have a pattern like this one which matches a span of text which occurs between 2 different tokens:"
      ]
    },
    {
      "cell_type": "code",
      "execution_count": null,
      "metadata": {
        "id": "k7qaMB6Qkz5I"
      },
      "outputs": [],
      "source": [
        "import re\n",
        "\n",
        "example_text = \"SERVICE: Radiology\"\n",
        "pattern_str = r\"ICE: Rad\""
      ]
    },
    {
      "cell_type": "markdown",
      "metadata": {
        "id": "lc_Iqb-Ckz5I"
      },
      "source": [
        "In this case, medspaCy will find the closest token boundaries around the matched span, meaning that the resulting `ent` won't actually equal the matched span of text. Because of this, it is recommended to use a list of dicts whenever possible."
      ]
    },
    {
      "cell_type": "code",
      "execution_count": null,
      "metadata": {
        "id": "6QFTgH0Wkz5I"
      },
      "outputs": [],
      "source": [
        "target_matcher.add([TargetRule(\"ICE: Rad\", \"SERVICE\", pattern=pattern_str)])"
      ]
    },
    {
      "cell_type": "code",
      "execution_count": null,
      "metadata": {
        "colab": {
          "base_uri": "https://localhost:8080/"
        },
        "id": "XpXgkDUQkz5I",
        "outputId": "1daeaad5-7fa0-4840-8667-40e7135c01b0"
      },
      "outputs": [
        {
          "output_type": "execute_result",
          "data": {
            "text/plain": [
              "(SERVICE: Radiology,)"
            ]
          },
          "metadata": {},
          "execution_count": 21
        }
      ],
      "source": [
        "nlp(example_text).ents"
      ]
    },
    {
      "cell_type": "code",
      "execution_count": null,
      "metadata": {
        "colab": {
          "base_uri": "https://localhost:8080/"
        },
        "id": "wcrBPoVMkz5J",
        "outputId": "fbb4b212-9011-4eb5-857d-ac261a194acc"
      },
      "outputs": [
        {
          "output_type": "execute_result",
          "data": {
            "text/plain": [
              "<re.Match object; span=(4, 12), match='ICE: Rad'>"
            ]
          },
          "metadata": {},
          "execution_count": 22
        }
      ],
      "source": [
        "re.search(pattern_str, example_text)"
      ]
    },
    {
      "cell_type": "markdown",
      "metadata": {
        "id": "mohpkZvtkz5J"
      },
      "source": [
        "## Adding custom attributes\n",
        "One of the most powerful functionalities of spaCy is the ability to add [custom attributes](https://spacy.io/usage/processing-pipelines#custom-components-attributes) to spaCy objects (`Doc`, `Span`, or `Token`). These custom attributes are accessed through `obj._....`. As we'll see in later steps, medSpaCy adds several of these attributes in other attributes like `context` or `sectionizer`.\n",
        "\n",
        "But it is sometimes useful to include a custom attribute as part of the target matching rule, rather than needing to build a separate component to add it. The `TargetRule` can also include a value for these attributes in the `attributes` argument.\n",
        "\n",
        "For example, let's say we want to map certain entities to [ICD-10 diagnosis codes](https://www.cdc.gov/nchs/icd/icd10cm.htm). One way we can do this is to include the diagnosis codes for concepts in our knowledge base. For example, **\"Type II Diabetes\"** can be mapped to **E11.9**\". We can add this to entities by first registering the extension for the `Span` class:\n"
      ]
    },
    {
      "cell_type": "code",
      "execution_count": null,
      "metadata": {
        "id": "v4j9liXbkz5J"
      },
      "outputs": [],
      "source": [
        "from spacy.tokens import Span"
      ]
    },
    {
      "cell_type": "code",
      "execution_count": null,
      "metadata": {
        "id": "FZ0zlChWkz5K"
      },
      "outputs": [],
      "source": [
        "Span.set_extension(\"icd10\", default=\"\")"
      ]
    },
    {
      "cell_type": "markdown",
      "metadata": {
        "id": "Q9rgup1Fkz5K"
      },
      "source": [
        "We can now include ICD-10 code values in the target rules. We'll map **\"Type II Diabetes Mellitus\"** to **\"E11.9\"** and **\"Hypertension\"** to **\"I10\"**:"
      ]
    },
    {
      "cell_type": "code",
      "execution_count": null,
      "metadata": {
        "id": "BSGaI5cakz5K"
      },
      "outputs": [],
      "source": [
        "target_rules2 = [\n",
        "    TargetRule(\"Type II Diabetes Mellitus\", \"PROBLEM\",\n",
        "              pattern=[\n",
        "                  {\"LOWER\": \"type\"},\n",
        "                  {\"LOWER\": {\"IN\": [\"2\", \"ii\", \"two\"]}},\n",
        "                  {\"LOWER\": {\"IN\": [\"dm\", \"diabetes\"]}},\n",
        "                  {\"LOWER\": \"mellitus\", \"OP\": \"?\"}\n",
        "              ],\n",
        "              attributes={\"icd10\": \"E11.9\"}),\n",
        "    TargetRule(\"Hypertension\", \"PROBLEM\",\n",
        "              pattern=[{\"LOWER\": {\"IN\": [\"htn\", \"hypertension\"]}}],\n",
        "              attributes={\"icd10\": \"I10\"}),\n",
        "\n",
        "\n",
        "]"
      ]
    },
    {
      "cell_type": "code",
      "execution_count": null,
      "metadata": {
        "id": "kPXqYbYpkz5K"
      },
      "outputs": [],
      "source": [
        "target_matcher.add(target_rules2)"
      ]
    },
    {
      "cell_type": "code",
      "execution_count": null,
      "metadata": {
        "id": "jLo4phvpkz5R"
      },
      "outputs": [],
      "source": [
        "doc = nlp(text)"
      ]
    },
    {
      "cell_type": "markdown",
      "metadata": {
        "id": "pgv0nRHgkz5S"
      },
      "source": [
        "Now, whenever one of these rules results in a match, the ICD-10 value can be accessed in `ent._.icd10`:"
      ]
    },
    {
      "cell_type": "code",
      "execution_count": null,
      "metadata": {
        "id": "Pt8W90eikz5T",
        "outputId": "6b5db6ef-bfd8-402f-931d-43389dee2796"
      },
      "outputs": [
        {
          "name": "stdout",
          "output_type": "stream",
          "text": [
            "type 2 dm E11.9\n",
            "Type II Diabetes Mellitus E11.9\n",
            "Hypertension I10\n",
            "Type 2 DM E11.9\n",
            "HTN I10\n"
          ]
        }
      ],
      "source": [
        "for ent in doc.ents:\n",
        "    if ent._.icd10 != \"\":\n",
        "        print(ent, ent._.icd10)"
      ]
    },
    {
      "cell_type": "markdown",
      "metadata": {
        "id": "H3LxTrMakz5T"
      },
      "source": [
        "# Context\n",
        "Clinical text often contains mentions of concepts which the patient did not actually experience. For example:\n",
        "\n",
        "- \"There is *no evidence of* **pneumonia**\"\n",
        "- \"*Mother* with **breast cancer**\"\n",
        "- \"Patient presents for *r/o* **COVID-19**\"\n",
        "\n",
        "In all of these instances, we need to use the contextual clues around the entity to assert attributes like negation, experiencer, and uncertainty.\n",
        "\n",
        "One method for this is the [ConText algorithm](https://www.sciencedirect.com/science/article/pii/S1532046409000744). ConText links target entities like problems with semantic modifiers like those shown above. The medSpaCy implementation of ConText is found in `medspacy.context`.\n",
        "\n",
        "The ConText component is explained in more detail in the `context/` notebooks.\n",
        "\n",
        "**NOTE**: ConText requires sentence boundaries or windows to be set. More information will be in `context/` notebooks and in the ConText documentation, but for now, we will add PyRuSH to our pipeline."
      ]
    },
    {
      "cell_type": "code",
      "execution_count": null,
      "metadata": {
        "id": "bVfiQBe0kz5T"
      },
      "outputs": [],
      "source": [
        "context = nlp.add_pipe(\"medspacy_context\")"
      ]
    },
    {
      "cell_type": "code",
      "execution_count": null,
      "metadata": {
        "id": "4dPBJCsSkz5U",
        "outputId": "752e0104-c9fb-4e54-ae11-95f37d6821db"
      },
      "outputs": [
        {
          "data": {
            "text/plain": [
              "['medspacy_pyrush', 'medspacy_target_matcher', 'medspacy_context']"
            ]
          },
          "execution_count": 28,
          "metadata": {},
          "output_type": "execute_result"
        }
      ],
      "source": [
        "nlp.pipe_names"
      ]
    },
    {
      "cell_type": "code",
      "execution_count": null,
      "metadata": {
        "id": "uF5w8xGRkz5U"
      },
      "outputs": [],
      "source": [
        "doc = nlp(\"Mother with stroke at age 82.\")"
      ]
    },
    {
      "cell_type": "markdown",
      "metadata": {
        "id": "OFx0TM00kz5U"
      },
      "source": [
        "We can use medSpaCy visualizers from the module `medspacy.visualization` to show the target/modifiers in text. `visualize_dep` shows arrows targets to show which concepts are modified by the semantic modifiers:"
      ]
    },
    {
      "cell_type": "code",
      "execution_count": null,
      "metadata": {
        "id": "ppXKEmTvkz5V",
        "outputId": "11093f4d-2041-40d0-ae31-f35d12ed3703"
      },
      "outputs": [
        {
          "data": {
            "text/html": [
              "<span class=\"tex2jax_ignore\"><div class=\"entities\" style=\"line-height: 2.5; direction: ltr\">\n",
              "<mark class=\"entity\" style=\"background: #1f77b4; padding: 0.45em 0.6em; margin: 0 0.25em; line-height: 1; border-radius: 0.35em;\">\n",
              "    Mother\n",
              "    <span style=\"font-size: 0.8em; font-weight: bold; line-height: 1; border-radius: 0.35em; vertical-align: middle; margin-left: 0.5rem\">FAMILY</span>\n",
              "</mark>\n",
              " with \n",
              "<mark class=\"entity\" style=\"background: #ff7f0e; padding: 0.45em 0.6em; margin: 0 0.25em; line-height: 1; border-radius: 0.35em;\">\n",
              "    stroke\n",
              "    <span style=\"font-size: 0.8em; font-weight: bold; line-height: 1; border-radius: 0.35em; vertical-align: middle; margin-left: 0.5rem\">PROBLEM</span>\n",
              "</mark>\n",
              " at age 82.</div></span>"
            ],
            "text/plain": [
              "<IPython.core.display.HTML object>"
            ]
          },
          "metadata": {},
          "output_type": "display_data"
        }
      ],
      "source": [
        "visualize_ent(doc)"
      ]
    },
    {
      "cell_type": "code",
      "execution_count": null,
      "metadata": {
        "id": "PH5Jd7R9kz5V",
        "outputId": "d124367b-3635-4013-f31d-4617a58b985f"
      },
      "outputs": [
        {
          "data": {
            "text/html": [
              "<span class=\"tex2jax_ignore\"><svg xmlns=\"http://www.w3.org/2000/svg\" xmlns:xlink=\"http://www.w3.org/1999/xlink\" xml:lang=\"en\" id=\"d5b9f394c7dc4e8aa131d6ceba4e819a-0\" class=\"displacy\" width=\"1275\" height=\"224.5\" direction=\"ltr\" style=\"max-width: none; height: 224.5px; color: #000000; background: #ffffff; font-family: Arial; direction: ltr\">\n",
              "<text class=\"displacy-token\" fill=\"currentColor\" text-anchor=\"middle\" y=\"134.5\">\n",
              "    <tspan class=\"displacy-word\" fill=\"currentColor\" x=\"50\">Mother</tspan>\n",
              "    <tspan class=\"displacy-tag\" dy=\"2em\" fill=\"currentColor\" x=\"50\">FAMILY</tspan>\n",
              "</text>\n",
              "\n",
              "<text class=\"displacy-token\" fill=\"currentColor\" text-anchor=\"middle\" y=\"134.5\">\n",
              "    <tspan class=\"displacy-word\" fill=\"currentColor\" x=\"225\">with</tspan>\n",
              "    <tspan class=\"displacy-tag\" dy=\"2em\" fill=\"currentColor\" x=\"225\"></tspan>\n",
              "</text>\n",
              "\n",
              "<text class=\"displacy-token\" fill=\"currentColor\" text-anchor=\"middle\" y=\"134.5\">\n",
              "    <tspan class=\"displacy-word\" fill=\"currentColor\" x=\"400\">stroke</tspan>\n",
              "    <tspan class=\"displacy-tag\" dy=\"2em\" fill=\"currentColor\" x=\"400\">PROBLEM</tspan>\n",
              "</text>\n",
              "\n",
              "<text class=\"displacy-token\" fill=\"currentColor\" text-anchor=\"middle\" y=\"134.5\">\n",
              "    <tspan class=\"displacy-word\" fill=\"currentColor\" x=\"575\">at</tspan>\n",
              "    <tspan class=\"displacy-tag\" dy=\"2em\" fill=\"currentColor\" x=\"575\"></tspan>\n",
              "</text>\n",
              "\n",
              "<text class=\"displacy-token\" fill=\"currentColor\" text-anchor=\"middle\" y=\"134.5\">\n",
              "    <tspan class=\"displacy-word\" fill=\"currentColor\" x=\"750\">age</tspan>\n",
              "    <tspan class=\"displacy-tag\" dy=\"2em\" fill=\"currentColor\" x=\"750\"></tspan>\n",
              "</text>\n",
              "\n",
              "<text class=\"displacy-token\" fill=\"currentColor\" text-anchor=\"middle\" y=\"134.5\">\n",
              "    <tspan class=\"displacy-word\" fill=\"currentColor\" x=\"925\">82</tspan>\n",
              "    <tspan class=\"displacy-tag\" dy=\"2em\" fill=\"currentColor\" x=\"925\"></tspan>\n",
              "</text>\n",
              "\n",
              "<text class=\"displacy-token\" fill=\"currentColor\" text-anchor=\"middle\" y=\"134.5\">\n",
              "    <tspan class=\"displacy-word\" fill=\"currentColor\" x=\"1100\">.</tspan>\n",
              "    <tspan class=\"displacy-tag\" dy=\"2em\" fill=\"currentColor\" x=\"1100\"></tspan>\n",
              "</text>\n",
              "\n",
              "<g class=\"displacy-arrow\">\n",
              "    <path class=\"displacy-arc\" id=\"arrow-d5b9f394c7dc4e8aa131d6ceba4e819a-0-0\" stroke-width=\"2px\" d=\"M70,89.5 C70,2.0 400.0,2.0 400.0,89.5\" fill=\"none\" stroke=\"currentColor\"/>\n",
              "    <text dy=\"1.25em\" style=\"font-size: 0.8em; letter-spacing: 1px\">\n",
              "        <textPath xlink:href=\"#arrow-d5b9f394c7dc4e8aa131d6ceba4e819a-0-0\" class=\"displacy-label\" startOffset=\"50%\" side=\"left\" fill=\"currentColor\" text-anchor=\"middle\">FAMILY</textPath>\n",
              "    </text>\n",
              "    <path class=\"displacy-arrowhead\" d=\"M400.0,91.5 L408.0,79.5 392.0,79.5\" fill=\"currentColor\"/>\n",
              "</g>\n",
              "</svg></span>"
            ],
            "text/plain": [
              "<IPython.core.display.HTML object>"
            ]
          },
          "metadata": {},
          "output_type": "display_data"
        }
      ],
      "source": [
        "visualize_dep(doc)"
      ]
    },
    {
      "cell_type": "code",
      "execution_count": null,
      "metadata": {
        "id": "TTC_fdvLkz5V"
      },
      "outputs": [],
      "source": [
        "short_doc = nlp(\"Colon cancer diagnosed in 2012\")"
      ]
    },
    {
      "cell_type": "markdown",
      "metadata": {
        "id": "0NXnygQbkz5W"
      },
      "source": [
        "We can add a new rule using the `ConTextRule` class, which behaves similarly to `TargetRule` with some additional arguments defining modifier behavior:"
      ]
    },
    {
      "cell_type": "code",
      "execution_count": null,
      "metadata": {
        "id": "K8AXOdU_kz5W"
      },
      "outputs": [],
      "source": [
        "from medspacy.context import ConTextRule"
      ]
    },
    {
      "cell_type": "code",
      "execution_count": null,
      "metadata": {
        "id": "74j8nL6Ckz5W"
      },
      "outputs": [],
      "source": [
        "context_rules = [\n",
        "    ConTextRule(\"diagnosed in <YEAR>\", \"HISTORICAL\",\n",
        "                direction=\"BACKWARD\", # Look \"backwards\" in the text (to the left)\n",
        "                pattern=[\n",
        "                   {\"LOWER\": \"diagnosed\"},\n",
        "                   {\"LOWER\": \"in\"},\n",
        "                   {\"LOWER\": {\"REGEX\": \"^[\\d]{4}$\"}}\n",
        "                       ])\n",
        "                ]"
      ]
    },
    {
      "cell_type": "code",
      "execution_count": null,
      "metadata": {
        "id": "EFtDC92Skz5X"
      },
      "outputs": [],
      "source": [
        "context.add(context_rules)"
      ]
    },
    {
      "cell_type": "code",
      "execution_count": null,
      "metadata": {
        "id": "37qLaZ1wkz5X"
      },
      "outputs": [],
      "source": [
        "short_doc = nlp(\"Colon cancer diagnosed in 2012\")"
      ]
    },
    {
      "cell_type": "code",
      "execution_count": null,
      "metadata": {
        "id": "rMk22Ku3kz5X",
        "outputId": "68b018df-2b4f-432a-ecfa-7df1542d7005"
      },
      "outputs": [
        {
          "data": {
            "text/html": [
              "<span class=\"tex2jax_ignore\"><div class=\"entities\" style=\"line-height: 2.5; direction: ltr\">\n",
              "<mark class=\"entity\" style=\"background: #ff7f0e; padding: 0.45em 0.6em; margin: 0 0.25em; line-height: 1; border-radius: 0.35em;\">\n",
              "    Colon cancer\n",
              "    <span style=\"font-size: 0.8em; font-weight: bold; line-height: 1; border-radius: 0.35em; vertical-align: middle; margin-left: 0.5rem\">PROBLEM</span>\n",
              "</mark>\n",
              " \n",
              "<mark class=\"entity\" style=\"background: #1f77b4; padding: 0.45em 0.6em; margin: 0 0.25em; line-height: 1; border-radius: 0.35em;\">\n",
              "    diagnosed in 2012\n",
              "    <span style=\"font-size: 0.8em; font-weight: bold; line-height: 1; border-radius: 0.35em; vertical-align: middle; margin-left: 0.5rem\">HISTORICAL</span>\n",
              "</mark>\n",
              "</div></span>"
            ],
            "text/plain": [
              "<IPython.core.display.HTML object>"
            ]
          },
          "metadata": {},
          "output_type": "display_data"
        }
      ],
      "source": [
        "visualize_ent(short_doc)"
      ]
    },
    {
      "cell_type": "code",
      "execution_count": null,
      "metadata": {
        "id": "66o2XEr8kz5X",
        "outputId": "a620566d-d350-4b7f-a20c-fb317e3b7931"
      },
      "outputs": [
        {
          "data": {
            "text/html": [
              "<span class=\"tex2jax_ignore\"><svg xmlns=\"http://www.w3.org/2000/svg\" xmlns:xlink=\"http://www.w3.org/1999/xlink\" xml:lang=\"en\" id=\"38c357c6ecca42a4b869d6c6742c4249-0\" class=\"displacy\" width=\"400\" height=\"224.5\" direction=\"ltr\" style=\"max-width: none; height: 224.5px; color: #000000; background: #ffffff; font-family: Arial; direction: ltr\">\n",
              "<text class=\"displacy-token\" fill=\"currentColor\" text-anchor=\"middle\" y=\"134.5\">\n",
              "    <tspan class=\"displacy-word\" fill=\"currentColor\" x=\"50\">Colon cancer</tspan>\n",
              "    <tspan class=\"displacy-tag\" dy=\"2em\" fill=\"currentColor\" x=\"50\">PROBLEM</tspan>\n",
              "</text>\n",
              "\n",
              "<text class=\"displacy-token\" fill=\"currentColor\" text-anchor=\"middle\" y=\"134.5\">\n",
              "    <tspan class=\"displacy-word\" fill=\"currentColor\" x=\"225\">diagnosed in 2012</tspan>\n",
              "    <tspan class=\"displacy-tag\" dy=\"2em\" fill=\"currentColor\" x=\"225\">HISTORICAL</tspan>\n",
              "</text>\n",
              "\n",
              "<g class=\"displacy-arrow\">\n",
              "    <path class=\"displacy-arc\" id=\"arrow-38c357c6ecca42a4b869d6c6742c4249-0-0\" stroke-width=\"2px\" d=\"M70,89.5 C70,2.0 225.0,2.0 225.0,89.5\" fill=\"none\" stroke=\"currentColor\"/>\n",
              "    <text dy=\"1.25em\" style=\"font-size: 0.8em; letter-spacing: 1px\">\n",
              "        <textPath xlink:href=\"#arrow-38c357c6ecca42a4b869d6c6742c4249-0-0\" class=\"displacy-label\" startOffset=\"50%\" side=\"left\" fill=\"currentColor\" text-anchor=\"middle\">HISTORICAL</textPath>\n",
              "    </text>\n",
              "    <path class=\"displacy-arrowhead\" d=\"M70,91.5 L62,79.5 78,79.5\" fill=\"currentColor\"/>\n",
              "</g>\n",
              "</svg></span>"
            ],
            "text/plain": [
              "<IPython.core.display.HTML object>"
            ]
          },
          "metadata": {},
          "output_type": "display_data"
        }
      ],
      "source": [
        "visualize_dep(short_doc)"
      ]
    },
    {
      "cell_type": "markdown",
      "metadata": {
        "id": "Khk61JFQkz5Y"
      },
      "source": [
        "In addition to linking targets and modifiers, ConText will also set attributes for each entity:"
      ]
    },
    {
      "cell_type": "code",
      "execution_count": null,
      "metadata": {
        "id": "HlP0275Skz5Y",
        "outputId": "d0a923d9-0ce4-45a2-e997-bb276f9236d2"
      },
      "outputs": [
        {
          "name": "stdout",
          "output_type": "stream",
          "text": [
            "'stroke' modified by (<ConTextModifier> [0, 1, FAMILY],) in: 'Mother with stroke at age 82.'\n",
            "\n"
          ]
        }
      ],
      "source": [
        "for ent in doc.ents:\n",
        "    if any([ent._.is_negated, ent._.is_uncertain, ent._.is_historical, ent._.is_family, ent._.is_hypothetical, ]):\n",
        "        print(\"'{0}' modified by {1} in: '{2}'\".format(ent, ent._.modifiers, ent.sent))\n",
        "        print()"
      ]
    }
  ],
  "metadata": {
    "kernelspec": {
      "display_name": "Python 3 (ipykernel)",
      "language": "python",
      "name": "python3"
    },
    "language_info": {
      "codemirror_mode": {
        "name": "ipython",
        "version": 3
      },
      "file_extension": ".py",
      "mimetype": "text/x-python",
      "name": "python",
      "nbconvert_exporter": "python",
      "pygments_lexer": "ipython3",
      "version": "3.9.12"
    },
    "colab": {
      "provenance": []
    }
  },
  "nbformat": 4,
  "nbformat_minor": 0
}