{
  "nbformat": 4,
  "nbformat_minor": 0,
  "metadata": {
    "colab": {
      "provenance": []
    },
    "kernelspec": {
      "name": "python3",
      "display_name": "Python 3"
    },
    "language_info": {
      "name": "python"
    }
  },
  "cells": [
    {
      "cell_type": "code",
      "execution_count": null,
      "metadata": {
        "colab": {
          "base_uri": "https://localhost:8080/"
        },
        "id": "oFPMQ-_30thh",
        "outputId": "66189d2c-f4af-42b1-a384-0552cfdd78bb"
      },
      "outputs": [
        {
          "output_type": "stream",
          "name": "stdout",
          "text": [
            "\u001b[?25l     \u001b[90m━━━━━━━━━━━━━━━━━━━━━━━━━━━━━━━━━━━━━━━━\u001b[0m \u001b[32m0.0/111.4 kB\u001b[0m \u001b[31m?\u001b[0m eta \u001b[36m-:--:--\u001b[0m\r\u001b[2K     \u001b[91m━━━━━━━━━━━━━━\u001b[0m\u001b[91m╸\u001b[0m\u001b[90m━━━━━━━━━━━━━━━━━━━━━━━━━\u001b[0m \u001b[32m41.0/111.4 kB\u001b[0m \u001b[31m1.1 MB/s\u001b[0m eta \u001b[36m0:00:01\u001b[0m\r\u001b[2K     \u001b[90m━━━━━━━━━━━━━━━━━━━━━━━━━━━━━━━━━━━━━━━\u001b[0m \u001b[32m111.4/111.4 kB\u001b[0m \u001b[31m2.0 MB/s\u001b[0m eta \u001b[36m0:00:00\u001b[0m\n",
            "\u001b[?25h  Installing build dependencies ... \u001b[?25l\u001b[?25hdone\n",
            "  Getting requirements to build wheel ... \u001b[?25l\u001b[?25hdone\n",
            "  Preparing metadata (pyproject.toml) ... \u001b[?25l\u001b[?25hdone\n",
            "\u001b[2K     \u001b[90m━━━━━━━━━━━━━━━━━━━━━━━━━━━━━━━━━━━━━━━━\u001b[0m \u001b[32m67.4/67.4 kB\u001b[0m \u001b[31m6.8 MB/s\u001b[0m eta \u001b[36m0:00:00\u001b[0m\n",
            "\u001b[2K     \u001b[90m━━━━━━━━━━━━━━━━━━━━━━━━━━━━━━━━━━━━━━━━\u001b[0m \u001b[32m71.1/71.1 kB\u001b[0m \u001b[31m8.2 MB/s\u001b[0m eta \u001b[36m0:00:00\u001b[0m\n",
            "\u001b[2K     \u001b[90m━━━━━━━━━━━━━━━━━━━━━━━━━━━━━━━━━━━━━━━━\u001b[0m \u001b[32m92.1/92.1 kB\u001b[0m \u001b[31m11.3 MB/s\u001b[0m eta \u001b[36m0:00:00\u001b[0m\n",
            "\u001b[2K     \u001b[90m━━━━━━━━━━━━━━━━━━━━━━━━━━━━━━━━━━━━━━\u001b[0m \u001b[32m235.5/235.5 kB\u001b[0m \u001b[31m12.1 MB/s\u001b[0m eta \u001b[36m0:00:00\u001b[0m\n",
            "\u001b[2K     \u001b[90m━━━━━━━━━━━━━━━━━━━━━━━━━━━━━━━━━━━━━━━━\u001b[0m \u001b[32m1.5/1.5 MB\u001b[0m \u001b[31m45.7 MB/s\u001b[0m eta \u001b[36m0:00:00\u001b[0m\n",
            "\u001b[2K     \u001b[90m━━━━━━━━━━━━━━━━━━━━━━━━━━━━━━━━━━━━━━\u001b[0m \u001b[32m580.0/580.0 kB\u001b[0m \u001b[31m48.3 MB/s\u001b[0m eta \u001b[36m0:00:00\u001b[0m\n",
            "\u001b[?25h  Preparing metadata (setup.py) ... \u001b[?25l\u001b[?25hdone\n",
            "\u001b[2K     \u001b[90m━━━━━━━━━━━━━━━━━━━━━━━━━━━━━━━━━━━━━━━━\u001b[0m \u001b[32m1.9/1.9 MB\u001b[0m \u001b[31m73.6 MB/s\u001b[0m eta \u001b[36m0:00:00\u001b[0m\n",
            "\u001b[2K     \u001b[90m━━━━━━━━━━━━━━━━━━━━━━━━━━━━━━━━━━━━━━\u001b[0m \u001b[32m311.7/311.7 kB\u001b[0m \u001b[31m31.2 MB/s\u001b[0m eta \u001b[36m0:00:00\u001b[0m\n",
            "\u001b[?25h  Building wheel for medspacy (pyproject.toml) ... \u001b[?25l\u001b[?25hdone\n",
            "  Building wheel for unqlite (setup.py) ... \u001b[?25l\u001b[?25hdone\n"
          ]
        }
      ],
      "source": [
        "!pip install -q medspacy"
      ]
    },
    {
      "cell_type": "markdown",
      "source": [
        "Kita akan membutuhkan TargetMatcher dan TargetRule untuk NER berbasis aturan. visualize_ent memungkinkan kita untuk secara visual menandai frasa atau bagian mana dalam teks yang berhubungan dengan entitas tertentu. Visualize_dep untuk memvisualisasikan ketergantungan di antara entitas yang berbeda dalam kalimat."
      ],
      "metadata": {
        "id": "-sQCmWiWgxTL"
      }
    },
    {
      "cell_type": "code",
      "source": [
        "import sys\n",
        "import spacy\n",
        "import medspacy\n",
        "\n",
        "from medspacy.ner import TargetMatcher, TargetRule\n",
        "from medspacy.visualization import visualize_ent, visualize_dep"
      ],
      "metadata": {
        "id": "Cdq3Kot5gN5k"
      },
      "execution_count": null,
      "outputs": []
    },
    {
      "cell_type": "code",
      "source": [
        "with open(\"discharge_summary.txt\") as f:\n",
        "    text = f.read()"
      ],
      "metadata": {
        "id": "5f4fggErgN2k"
      },
      "execution_count": null,
      "outputs": []
    },
    {
      "cell_type": "code",
      "source": [
        "# load model\n",
        "nlp = medspacy.load(medspacy_enable=[\"medspacy_pyrush\"])"
      ],
      "metadata": {
        "id": "bPZAp-k9gNzq"
      },
      "execution_count": null,
      "outputs": []
    },
    {
      "cell_type": "code",
      "source": [
        "nlp.pipe_names"
      ],
      "metadata": {
        "colab": {
          "base_uri": "https://localhost:8080/"
        },
        "id": "6QmB_CFmgNt6",
        "outputId": "57af1ebc-afde-4ed9-f303-9dafa5069c5b"
      },
      "execution_count": null,
      "outputs": [
        {
          "output_type": "execute_result",
          "data": {
            "text/plain": [
              "['medspacy_pyrush']"
            ]
          },
          "metadata": {},
          "execution_count": 16
        }
      ]
    },
    {
      "cell_type": "markdown",
      "source": [
        "## Ekstraksi target\n",
        "Pada langkah ini, kita akan menulis aturan untuk mengekstrak konsep utama yang kita minati.\n",
        "\n",
        "Dalam contoh ini, kita akan menggunakan dua utilitas yang disediakan di medspacy.ner untuk pencocokan berbasis aturan: TargetMatcher dan TargetRule. Namun, Anda dapat menggunakan komponen spaCy apa pun untuk menambahkan rentang ke doc.ents, termasuk model NER yang telah dilatih sebelumnya atau komponen pencocokan berbasis aturan spaCy lainnya.\n",
        "\n",
        "Jika Anda ingin menggunakan model NER statistik alih-alih komponen berbasis aturan, lihat [./6-Menggunakan-Model-Pretrained.ipynb](https://github.com/medspacy/medspacy/blob/master/notebooks/03-Information-Extraction.ipynb)\n",
        "\n",
        "### Konsep target\n",
        "Dalam teks kita, kita akan mengekstrak konsep-konsep berikut:\n",
        "- Diagnosa\n",
        "- Pengobatan\n",
        "\n",
        "Selain itu, kami akan menunjukkan beberapa contoh cara menambahkan atribut spaCy khusus ke aturan target untuk menambahkan kode diagnosis ICD-10 sebagai atribut entitas.\n",
        "\n",
        "Pertama, kita akan mengimpor TargetMatcher dan TargetRule. Kita akan menginstansiasi TargetRule dan menambahkannya ke pipeline kita."
      ],
      "metadata": {
        "id": "-5HKGQkaiUmK"
      }
    },
    {
      "cell_type": "code",
      "source": [
        "target_matcher = nlp.add_pipe(\"medspacy_target_matcher\")"
      ],
      "metadata": {
        "id": "aRmpVh6OgNny"
      },
      "execution_count": null,
      "outputs": []
    },
    {
      "cell_type": "markdown",
      "source": [
        "Sekarang kita akan mendefinisikan beberapa aturan untuk mengekstrak konsep dari teks. Kelas TargetRule mendefinisikan aturan untuk mengekstrak entitas dari teks. TargetRule mengambil argumen berikut:\n",
        "\n",
        "- literal: Frasa yang tepat untuk dicocokkan dalam teks\n",
        "- kategori: Kelas semantik dari entitas, akan sesuai dengan ent.label_ di dalam dokumen Doc.\n",
        "- pola: Pola opsional untuk dicocokkan, bukan literal. Seperti yang akan kita lihat di bawah ini, pola ini dapat berupa daftar kamus yang mendefinisikan atribut token atau string ekspresi reguler.\n",
        "- on_match: Fungsi pemanggilan balik opsional. Lihat https://spacy.io/usage/rule-based-matching#on_match\n",
        "- metadata: Kamus metadata yang bersifat opsional\n",
        "- atribut: Kamus opsional dari atribut khusus untuk ditetapkan dalam entitas yang dihasilkan.\n",
        "\n",
        "Kita akan melihat contoh di bawah ini.\n",
        "Mari kita tentukan beberapa aturan sederhana:"
      ],
      "metadata": {
        "id": "NsFMFe2diwZy"
      }
    },
    {
      "cell_type": "code",
      "source": [
        "target_rules = [\n",
        "    TargetRule(literal=\"abdominal pain\", category=\"PROBLEM\"),\n",
        "    TargetRule(\"stroke\", \"PROBLEM\"),\n",
        "    TargetRule(\"hemicolectomy\", \"TREATMENT\"),\n",
        "    TargetRule(\"Hydrochlorothiazide\", \"TREATMENT\"),\n",
        "    TargetRule(\"colon cancer\", \"PROBLEM\"),\n",
        "    TargetRule(\"metastasis\", \"PROBLEM\"),\n",
        "\n",
        "]"
      ],
      "metadata": {
        "id": "waqz8pbzgNjZ"
      },
      "execution_count": null,
      "outputs": []
    },
    {
      "cell_type": "code",
      "source": [
        "text"
      ],
      "metadata": {
        "colab": {
          "base_uri": "https://localhost:8080/",
          "height": 140
        },
        "id": "1mzppASyj1s3",
        "outputId": "db37f99c-0c7f-4643-e941-9bffa24c714a"
      },
      "execution_count": null,
      "outputs": [
        {
          "output_type": "execute_result",
          "data": {
            "text/plain": [
              "\"Admission Date:  [**2573-5-30**]              Discharge Date:   [**2573-7-1**]\\n\\nDate of Birth:  [**2498-8-19**]             Sex:   F\\n\\nService: SURGERY\\n\\nAllergies:\\nHydrochlorothiazide\\n\\nAttending:[**First Name3 (LF) 1893**]\\nChief Complaint:\\nAbdominal pain\\n\\nMajor Surgical or Invasive Procedure:\\nPICC line [**6-25**]\\nERCP w/ sphincterotomy [**5-31**]\\n\\n\\nHistory of Present Illness:\\n74y female with type 2 dm and a recent stroke affecting her\\nspeech, who presents with 2 days of abdominal pain. Imaging shows no evidence of metastasis. She is not receiving any chemo.\\n\\nPast Medical History:\\n1. Colon cancer dx'd in [**2554**], tx'd with hemicolectomy, XRT,\\nchemo. Last colonoscopy showed: Last CEA was in the 8 range\\n(down from 9)\\n2. Type II Diabetes Mellitus\\n3. Hypertension\\n\\nSocial History:\\nMarried, former tobacco use. No alcohol or drug use.\\n\\nFamily History:\\nMother with stroke at age 82. no early deaths.\\n2 daughters- healthy\\n\\n\\nBrief Hospital Course:\\nMs. [**Known patient lastname 2004**] was admitted on [**2573-5-30**]. Ultrasound at the time of\\nadmission demonstrated pancreatic duct dilitation and an\\nedematous gallbladder. She was admitted to the ICU.\\nDischarge Medications:\\n1. Miconazole Nitrate 2 % Powder Sig: One (1) Appl Topical  BID\\n(2 times a day) as needed.\\n2. Heparin Sodium (Porcine) 5,000 unit/mL Solution Sig: One (1)\\nInjection TID (3 times a day).\\n3. Acetaminophen 160 mg/5 mL Elixir Sig: One (1)  PO Q4-6H\\n(every 4 to 6 hours) as needed.\\n\\nDischarge Diagnosis:\\nType 2 DM\\nPancreatitis\\nHTN\\nh/o aspiration respiratory distress\\n\\n\\nDischarge Instructions:\\nPatient may shower. Please call your surgeon or return to the\\nemergency room if [**Doctor First Name **] experience fever >101.5, nausea, vomiting,\\nabdominal pain, shortness of breath, abdominal pain or any\\nsignificant  change in your medical condition. A\\n\\nCompleted by: [**First Name11 (Name Pattern1) 2010**] [**Last Name (NamePattern1) 2011**] MD [**MD Number 2012**] [**2573-7-1**] @ 1404\\nSigned electronically by: DR. [**First Name8 (NamePattern2) **] [**Last Name (NamePattern1) **]\\n on: FRI [**2573-7-2**] 8:03 AM\\n(End of Report)\""
            ],
            "application/vnd.google.colaboratory.intrinsic+json": {
              "type": "string"
            }
          },
          "metadata": {},
          "execution_count": 18
        }
      ]
    },
    {
      "cell_type": "code",
      "source": [
        "target_matcher.add(target_rules)\n",
        "doc = nlp(text)"
      ],
      "metadata": {
        "id": "MCpxX8Z_gNgE"
      },
      "execution_count": null,
      "outputs": []
    },
    {
      "cell_type": "code",
      "source": [
        "print(doc.ents)"
      ],
      "metadata": {
        "colab": {
          "base_uri": "https://localhost:8080/"
        },
        "id": "RFdwz2uFgNcz",
        "outputId": "10ba90f3-73f0-4c0e-b5dd-bf97566aca2e"
      },
      "execution_count": null,
      "outputs": [
        {
          "output_type": "stream",
          "name": "stdout",
          "text": [
            "(Hydrochlorothiazide, Abdominal pain, stroke, abdominal pain, metastasis, Colon cancer, hemicolectomy, stroke, abdominal pain, abdominal pain)\n"
          ]
        }
      ]
    },
    {
      "cell_type": "code",
      "source": [
        "for ent in doc.ents:\n",
        "    print(ent, ent.label_, ent._.target_rule, sep=\"  |  \")"
      ],
      "metadata": {
        "colab": {
          "base_uri": "https://localhost:8080/"
        },
        "id": "S_PiUYBagNZl",
        "outputId": "7225f819-856a-483e-bb69-89bf80d1eb22"
      },
      "execution_count": null,
      "outputs": [
        {
          "output_type": "stream",
          "name": "stdout",
          "text": [
            "Hydrochlorothiazide  |  TREATMENT  |  TargetRule(literal=\"Hydrochlorothiazide\", category=\"TREATMENT\", pattern=None, attributes=None, on_match=None)\n",
            "Abdominal pain  |  PROBLEM  |  TargetRule(literal=\"abdominal pain\", category=\"PROBLEM\", pattern=None, attributes=None, on_match=None)\n",
            "stroke  |  PROBLEM  |  TargetRule(literal=\"stroke\", category=\"PROBLEM\", pattern=None, attributes=None, on_match=None)\n",
            "abdominal pain  |  PROBLEM  |  TargetRule(literal=\"abdominal pain\", category=\"PROBLEM\", pattern=None, attributes=None, on_match=None)\n",
            "metastasis  |  PROBLEM  |  TargetRule(literal=\"metastasis\", category=\"PROBLEM\", pattern=None, attributes=None, on_match=None)\n",
            "Colon cancer  |  PROBLEM  |  TargetRule(literal=\"colon cancer\", category=\"PROBLEM\", pattern=None, attributes=None, on_match=None)\n",
            "hemicolectomy  |  TREATMENT  |  TargetRule(literal=\"hemicolectomy\", category=\"TREATMENT\", pattern=None, attributes=None, on_match=None)\n",
            "stroke  |  PROBLEM  |  TargetRule(literal=\"stroke\", category=\"PROBLEM\", pattern=None, attributes=None, on_match=None)\n",
            "abdominal pain  |  PROBLEM  |  TargetRule(literal=\"abdominal pain\", category=\"PROBLEM\", pattern=None, attributes=None, on_match=None)\n",
            "abdominal pain  |  PROBLEM  |  TargetRule(literal=\"abdominal pain\", category=\"PROBLEM\", pattern=None, attributes=None, on_match=None)\n"
          ]
        }
      ]
    },
    {
      "cell_type": "code",
      "source": [
        "## Source: https://github.com/medspacy/medspacy\n",
        "\n",
        "# Load medspacy model\n",
        "nlp = medspacy.load()\n",
        "print(nlp.pipe_names)\n",
        "\n",
        "text = \"\"\"\n",
        "Past Medical History:\n",
        "1. Atrial fibrillation\n",
        "2. Type II Diabetes Mellitus\n",
        "\n",
        "Assessment and Plan:\n",
        "There is no evidence of pneumonia. Continue warfarin for Afib. Follow up for management of type 2 DM.\n",
        "\"\"\"\n",
        "\n",
        "# Add rules for target concept extraction\n",
        "target_matcher = nlp.get_pipe(\"medspacy_target_matcher\")\n",
        "target_rules = [\n",
        "    TargetRule(\"atrial fibrillation\", \"PROBLEM\"),\n",
        "    TargetRule(\"atrial fibrillation\", \"PROBLEM\", pattern=[{\"LOWER\": \"afib\"}]),\n",
        "    TargetRule(\"pneumonia\", \"PROBLEM\"),\n",
        "    TargetRule(\"Type II Diabetes Mellitus\", \"PROBLEM\",\n",
        "              pattern=[\n",
        "                  {\"LOWER\": \"type\"},\n",
        "                  {\"LOWER\": {\"IN\": [\"2\", \"ii\", \"two\"]}},\n",
        "                  {\"LOWER\": {\"IN\": [\"dm\", \"diabetes\"]}},\n",
        "                  {\"LOWER\": \"mellitus\", \"OP\": \"?\"}\n",
        "              ]),\n",
        "    TargetRule(\"warfarin\", \"MEDICATION\")\n",
        "]\n",
        "target_matcher.add(target_rules)\n",
        "\n",
        "doc = nlp(text)\n",
        "visualize_ent(doc)"
      ],
      "metadata": {
        "colab": {
          "base_uri": "https://localhost:8080/",
          "height": 314
        },
        "id": "7U47omFHgNQB",
        "outputId": "2196abcc-a46c-4790-cdd8-f8ee60426bb2"
      },
      "execution_count": null,
      "outputs": [
        {
          "output_type": "stream",
          "name": "stdout",
          "text": [
            "['medspacy_pyrush', 'medspacy_target_matcher', 'medspacy_context']\n"
          ]
        },
        {
          "output_type": "display_data",
          "data": {
            "text/plain": [
              "<IPython.core.display.HTML object>"
            ],
            "text/html": [
              "<span class=\"tex2jax_ignore\"><div class=\"entities\" style=\"line-height: 2.5; direction: ltr\"><br>Past Medical History:<br>1. \n",
              "<mark class=\"entity\" style=\"background: #1f77b4; padding: 0.45em 0.6em; margin: 0 0.25em; line-height: 1; border-radius: 0.35em;\">\n",
              "    Atrial fibrillation\n",
              "    <span style=\"font-size: 0.8em; font-weight: bold; line-height: 1; border-radius: 0.35em; vertical-align: middle; margin-left: 0.5rem\">PROBLEM</span>\n",
              "</mark>\n",
              "<br>2. \n",
              "<mark class=\"entity\" style=\"background: #1f77b4; padding: 0.45em 0.6em; margin: 0 0.25em; line-height: 1; border-radius: 0.35em;\">\n",
              "    Type II Diabetes Mellitus\n",
              "    <span style=\"font-size: 0.8em; font-weight: bold; line-height: 1; border-radius: 0.35em; vertical-align: middle; margin-left: 0.5rem\">PROBLEM</span>\n",
              "</mark>\n",
              "<br><br>Assessment and Plan:<br>There is \n",
              "<mark class=\"entity\" style=\"background: #2ca02c; padding: 0.45em 0.6em; margin: 0 0.25em; line-height: 1; border-radius: 0.35em;\">\n",
              "    no evidence of\n",
              "    <span style=\"font-size: 0.8em; font-weight: bold; line-height: 1; border-radius: 0.35em; vertical-align: middle; margin-left: 0.5rem\">NEGATED_EXISTENCE</span>\n",
              "</mark>\n",
              " \n",
              "<mark class=\"entity\" style=\"background: #1f77b4; padding: 0.45em 0.6em; margin: 0 0.25em; line-height: 1; border-radius: 0.35em;\">\n",
              "    pneumonia\n",
              "    <span style=\"font-size: 0.8em; font-weight: bold; line-height: 1; border-radius: 0.35em; vertical-align: middle; margin-left: 0.5rem\">PROBLEM</span>\n",
              "</mark>\n",
              ". Continue \n",
              "<mark class=\"entity\" style=\"background: #ff7f0e; padding: 0.45em 0.6em; margin: 0 0.25em; line-height: 1; border-radius: 0.35em;\">\n",
              "    warfarin\n",
              "    <span style=\"font-size: 0.8em; font-weight: bold; line-height: 1; border-radius: 0.35em; vertical-align: middle; margin-left: 0.5rem\">MEDICATION</span>\n",
              "</mark>\n",
              " for \n",
              "<mark class=\"entity\" style=\"background: #1f77b4; padding: 0.45em 0.6em; margin: 0 0.25em; line-height: 1; border-radius: 0.35em;\">\n",
              "    Afib\n",
              "    <span style=\"font-size: 0.8em; font-weight: bold; line-height: 1; border-radius: 0.35em; vertical-align: middle; margin-left: 0.5rem\">PROBLEM</span>\n",
              "</mark>\n",
              ". Follow up for management of \n",
              "<mark class=\"entity\" style=\"background: #1f77b4; padding: 0.45em 0.6em; margin: 0 0.25em; line-height: 1; border-radius: 0.35em;\">\n",
              "    type 2 DM\n",
              "    <span style=\"font-size: 0.8em; font-weight: bold; line-height: 1; border-radius: 0.35em; vertical-align: middle; margin-left: 0.5rem\">PROBLEM</span>\n",
              "</mark>\n",
              ".<br></div></span>"
            ]
          },
          "metadata": {}
        }
      ]
    }
  ]
}